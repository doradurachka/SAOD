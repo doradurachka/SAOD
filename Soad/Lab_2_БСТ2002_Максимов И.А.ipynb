{
 "cells": [
  {
   "cell_type": "markdown",
   "id": "76efaa16-772e-4dcd-aab4-cd35f377f081",
   "metadata": {
    "tags": []
   },
   "source": [
    "## Лабораторная работа №2\n",
    "### Выполнил студент группы БСТ2002 Максимов И.А.\n",
    "\n",
    "## Задание №1\n",
    "\n",
    "### Реализовать методы поиска в соответствии с заданием. Организовать генерацию начального набора случайных данных. Для всех вариантов добавить реализацию добавления, поиска и удаления элементов. Оценить время работы каждого алгоритма поиска и сравнить его со временем работы стандартной функции поиска, используемой в выбранном языке программирования."
   ]
  },
  {
   "cell_type": "code",
   "execution_count": 1,
   "id": "91facf1c-5c6c-4ae1-9368-7f7c263391fe",
   "metadata": {},
   "outputs": [],
   "source": [
    "from IPython.display import HTML, display\n",
    "import random\n",
    "import time\n",
    "from random import randint\n",
    "import copy"
   ]
  },
  {
   "cell_type": "code",
   "execution_count": null,
   "id": "224da255-01eb-485e-affb-7738b949c9d0",
   "metadata": {},
   "outputs": [],
   "source": [
    "def Print(mas, n):\n",
    "    for i in range (int(n)):\n",
    "        print(mas[i], end=' ')\n",
    "    print()\n",
    "    \n",
    "n = int(input(\"Введите количество элементов : \"))\n",
    "min_limit = input(\"Укажите начальный диапозон чисел для генерации: \")\n",
    "max_limit = input(\"Укажите конечный диапозон чисел для генерации: \")\n",
    "mas = [randint(int(min_limit), int(max_limit)) for i in range(int(n))]\n",
    "\n",
    "\n",
    "mas.sort()\n",
    "print(\"Сгенерированные элементы: \")\n",
    "Print(mas, n)\n",
    "\n",
    "def Insert(mas):\n",
    "    print(\"Хотите внести элемент? \")\n",
    "    ans = input()\n",
    "    if ans==\"да\" :\n",
    "        el = int(input(\"Введите число: \"))\n",
    "        index = int(input(\"Введите индекс: \"))\n",
    "        mas.insert(index, el)\n",
    "        Print(mas, n + 1)\n",
    "\n",
    "def Delete(mas):\n",
    "    print(\"Хотите удалить элемент? \")\n",
    "    ans = input()\n",
    "    if ans == \"да\" :\n",
    "        index = int(input(\"Введите индекс: \"))\n",
    "        del mas[index]\n",
    "        Print(mas, n - 1)"
   ]
  },
  {
   "cell_type": "markdown",
   "id": "9578a563-afc3-43b3-9705-1394a80af5a2",
   "metadata": {},
   "source": [
    "# Бинарный поиск"
   ]
  },
  {
   "cell_type": "code",
   "execution_count": 1,
   "id": "c6131e25-9958-4c6c-86f0-d435ca85ce31",
   "metadata": {},
   "outputs": [],
   "source": [
    "def BinSearch(arr, x):\n",
    "    m = len(arr) // 2\n",
    "    i = 0\n",
    "    j = len(arr)-1\n",
    "    while arr[m] != x and i<= j:\n",
    "        if x > arr[m]:\n",
    "            i = m + 1\n",
    "        else:\n",
    "            j = m - 1\n",
    "        m = (i + j) // 2\n",
    "    if i > j:\n",
    "        print(\"Искомого числа в массиве нет\")\n",
    "    else:\n",
    "        print(\"Индекс: \", m)"
   ]
  },
  {
   "cell_type": "code",
   "execution_count": null,
   "id": "ba975ce5-2569-45c1-be98-eae545b089c4",
   "metadata": {},
   "outputs": [],
   "source": [
    "print(\"Бинарный поиск\")\n",
    "print(\"Введите элемент, который хотите найти: \")\n",
    "element = int(input())\n",
    "mas_bin = copy.deepcopy(mas)\n",
    "start = time.time()\n",
    "BinSearch(mas_bin, element)\n",
    "end = time.time()-start\n",
    "print(\"Время затраченное на поиск: \",'%.16f' % end)\n",
    "Insert(mas_bin)\n",
    "Delete(mas_bin)"
   ]
  },
  {
   "cell_type": "markdown",
   "id": "c809a00a-ac9f-4daf-9fc5-df8ec1a3bfc1",
   "metadata": {},
   "source": [
    "# Бинарное дерево"
   ]
  },
  {
   "cell_type": "code",
   "execution_count": null,
   "id": "1e2268aa-b921-44ea-bb8e-70ec5cdbe883",
   "metadata": {},
   "outputs": [],
   "source": [
    "class Node:\n",
    "\n",
    "    def __init__(self, data):\n",
    "\n",
    "        self.left = None\n",
    "        self.right = None\n",
    "        self.data = data\n",
    "\n",
    "    def insert(self, data):\n",
    "\n",
    "        if self.data:\n",
    "            if data < self.data:\n",
    "                if self.left is None:\n",
    "                    self.left = Node(data)\n",
    "                else:\n",
    "                    self.left.insert(data)\n",
    "            elif data > self.data:\n",
    "                if self.right is None:\n",
    "                    self.right = Node(data)\n",
    "                else:\n",
    "                    self.right.insert(data)\n",
    "        else:\n",
    "            self.data = data\n",
    "\n",
    "    def findval(self, lkpval):\n",
    "        if lkpval < self.data:\n",
    "            if self.left is None:\n",
    "                print(lkpval, \"не найден.\")\n",
    "                return False\n",
    "            return self.left.findval(lkpval)\n",
    "        elif lkpval > self.data:\n",
    "            if self.right is None:\n",
    "                print(lkpval, \"не найден.\")\n",
    "                return False\n",
    "            return self.right.findval(lkpval)\n",
    "        else:\n",
    "            print(self.data, ' найден.')\n",
    "            return True\n",
    "\n",
    "    def PrintTree(self):\n",
    "        if self.left:\n",
    "            self.left.PrintTree()\n",
    "        print(self.data),\n",
    "        if self.right:\n",
    "            self.right.PrintTree()\n",
    "\n",
    "\n",
    "def make_a_tree(arr):\n",
    "    root = Node(arr[0])\n",
    "    for i in arr[1::]:\n",
    "        root.insert(i)\n",
    "    return root"
   ]
  },
  {
   "cell_type": "code",
   "execution_count": null,
   "id": "1a5ee888-f995-4886-b359-f5268296c7a8",
   "metadata": {},
   "outputs": [],
   "source": [
    "print(\"Бинарное деререво\")\n",
    "mas_tree = copy.deepcopy(mas)\n",
    "root = make_a_tree(mas_tree)\n",
    "num = int(input(\"Введите элемент, который хотите найти: \"))\n",
    "start = time.time()\n",
    "result = root.findval(num)\n",
    "end= time.time() - start\n",
    "print(\"Время затраченное на поиск: \", end)\n",
    "task = input(\"Хотите внести элемент? \")\n",
    "if task == \"да\" :\n",
    "    num = int(input(\"Введите элемент, который хотите внести: \"))\n",
    "    root.insert(num)\n",
    "    root.PrintTree()\n",
    "task = input(\"Хотите удалить элемент? \")\n",
    "if task == \"да\" :\n",
    "    num = int(input(\"Введите элемент, который хотите удалить: \"))\n",
    "    mas_tree.remove(num)\n",
    "    root = make_a_tree(mas_tree)\n",
    "    root.PrintTree()"
   ]
  },
  {
   "cell_type": "markdown",
   "id": "957eb4c5-dbde-4dbb-ac78-9f784c08415c",
   "metadata": {},
   "source": [
    "# Фибоначев поиск"
   ]
  },
  {
   "cell_type": "code",
   "execution_count": null,
   "id": "a5704280-8328-43cb-aef4-a1f8f3223161",
   "metadata": {},
   "outputs": [],
   "source": [
    "def FibonacciSearch(lys, val):\n",
    "    fibM_minus_2 = 0\n",
    "    fibM_minus_1 = 1\n",
    "    fibM = fibM_minus_1 + fibM_minus_2\n",
    "    while (fibM < len(lys)):\n",
    "        fibM_minus_2 = fibM_minus_1\n",
    "        fibM_minus_1 = fibM\n",
    "        fibM = fibM_minus_1 + fibM_minus_2\n",
    "    index = -1\n",
    "    while (fibM > 1):\n",
    "        i = min(index + fibM_minus_2, (len(lys)-1))\n",
    "        if (lys[i] < val):\n",
    "            fibM = fibM_minus_1\n",
    "            fibM_minus_1 = fibM_minus_2\n",
    "            fibM_minus_2 = fibM - fibM_minus_1\n",
    "            index = i\n",
    "        elif (lys[i] > val):\n",
    "            fibM = fibM_minus_2\n",
    "            fibM_minus_1 = fibM_minus_1 - fibM_minus_2\n",
    "            fibM_minus_2 = fibM - fibM_minus_1\n",
    "        else :\n",
    "            return i\n",
    "    if(fibM_minus_1 and index < (len(lys)-1) and lys[index+1] == val):\n",
    "        return index+1\n",
    "    return -1"
   ]
  },
  {
   "cell_type": "code",
   "execution_count": null,
   "id": "cbe6fdaf-b969-4a6c-944e-405328e2c34a",
   "metadata": {},
   "outputs": [],
   "source": [
    "print(\"Фибоначчиев поиск\")\n",
    "print(\"Введите элемент, который хотите найти: \")\n",
    "element = int(input())\n",
    "mas_fib = copy.deepcopy(mas)\n",
    "start = time.time()\n",
    "a = FibonacciSearch(mas_fib,element)\n",
    "end = time.time()-start\n",
    "if a == -1:\n",
    "    print(\"Искомого числа в массиве нет\")\n",
    "else:\n",
    "    print(\"Индекс: \", a)\n",
    "print(\"Время затраченное на поиск: \", end)\n",
    "Insert(mas_fib)\n",
    "Delete(mas_fib)"
   ]
  },
  {
   "cell_type": "markdown",
   "id": "23c116e2-c763-43a2-ad23-cbdf07967900",
   "metadata": {},
   "source": [
    "# Интерполяционный поиск"
   ]
  },
  {
   "cell_type": "code",
   "execution_count": null,
   "id": "365fe382-6b54-456b-8f30-fbdf3dd4bbc8",
   "metadata": {},
   "outputs": [],
   "source": [
    "def InterpolationSearch(lys, val):\n",
    "    low = 0\n",
    "    high = (len(lys) - 1)\n",
    "    while low <= high and val >= lys[low] and val <= lys[high]:\n",
    "        index = low + int(((float(high - low) / (lys[high] - lys[low])) * (val - lys[low])))\n",
    "        if lys[index] == val:\n",
    "            return index\n",
    "        if lys[index] < val:\n",
    "            low = index + 1\n",
    "        else:\n",
    "            high = index - 1\n",
    "    return -1"
   ]
  },
  {
   "cell_type": "code",
   "execution_count": null,
   "id": "86f034d8-3cda-4fc6-b85b-28590621b333",
   "metadata": {},
   "outputs": [],
   "source": [
    "print(\"Интерполяционный поиск\")\n",
    "print(\"Введите элемент, который хотите найти: \")\n",
    "element = int(input())\n",
    "mas_inter = copy.deepcopy(mas)\n",
    "start_time_inter = time.time()\n",
    "b = InterpolationSearch(mas_inter, element)\n",
    "end_time_inter = time.time()-start_time_inter\n",
    "if b == -1:\n",
    "    print(\"Искомого числа в массиве нет\")\n",
    "else:\n",
    "    print(\"Индекс: \", b)\n",
    "print(\"Время работы: \", end_time_inter)\n",
    "Insert(mas_inter)\n",
    "Delete(mas_inter)"
   ]
  },
  {
   "cell_type": "markdown",
   "id": "cb502cce-4e3d-457c-ab15-0b9cd08c85e6",
   "metadata": {},
   "source": [
    "# Задание 2"
   ]
  },
  {
   "cell_type": "markdown",
   "id": "07df6f92-c9ab-4d23-9833-57f6944ecf2a",
   "metadata": {},
   "source": [
    "# Простое рехеширование"
   ]
  },
  {
   "cell_type": "code",
   "execution_count": null,
   "id": "521ab558-83b7-43a9-bf76-b0dbcba19408",
   "metadata": {},
   "outputs": [],
   "source": [
    "def simple_re_hash(sl, matrix):\n",
    "    for j in range(0, len(matrix)):\n",
    "        temp = matrix[j]\n",
    "        i = 1\n",
    "        while True:\n",
    "            if hash(temp) not in sl.keys():\n",
    "                sl[hash(temp)] = matrix[j]\n",
    "                break\n",
    "            else:\n",
    "                while hash(temp) + i in sl.keys():\n",
    "                    i += 1\n",
    "                sl[hash(matrix[j] + i)] = matrix[j]\n",
    "                break"
   ]
  },
  {
   "cell_type": "code",
   "execution_count": null,
   "id": "cf2e27bb-1a6d-4649-9893-ce1c945cb738",
   "metadata": {},
   "outputs": [],
   "source": [
    "print(\"Метод простого рехеширования\")\n",
    "slsimple = dict()\n",
    "simple_re_hash(slsimple, matrix)\n",
    "stroksimple = str(slsimple.items())\n",
    "print(stroksimple)"
   ]
  },
  {
   "cell_type": "markdown",
   "id": "9d298040-2210-4d48-ba53-cef68543435d",
   "metadata": {},
   "source": [
    "# Случайное рехеширование"
   ]
  },
  {
   "cell_type": "code",
   "execution_count": null,
   "id": "3cf9c201-b69c-4eeb-9685-8805acdd4b35",
   "metadata": {},
   "outputs": [],
   "source": [
    "def rand_re_hash(sl, matrix):\n",
    "    for j in range(0, len(matrix)):\n",
    "        temp = matrix[j]\n",
    "        while True:\n",
    "            if hash(temp) not in sl.keys():\n",
    "                sl[hash(temp)] = matrix[j]\n",
    "                break\n",
    "            else:\n",
    "                temp = matrix[j] + (random.randint(0, 1000))"
   ]
  },
  {
   "cell_type": "code",
   "execution_count": null,
   "id": "579dc884-b0d1-4b16-849b-7d202db7b80f",
   "metadata": {},
   "outputs": [],
   "source": [
    "print(\"Метод простого рехеширования с использованием псевдослучайных чисел\")\n",
    "slrand = dict()\n",
    "rand_re_hash(slrand, matrix)\n",
    "strokrand = str(slrand.items())\n",
    "print(strokrand)"
   ]
  },
  {
   "cell_type": "markdown",
   "id": "2be0be5f-05ab-4dc8-8930-3ca91db7ab24",
   "metadata": {},
   "source": [
    "# Метод цепочек"
   ]
  },
  {
   "cell_type": "code",
   "execution_count": null,
   "id": "da357fc5-b66e-41a1-a0ed-20efc09aa77d",
   "metadata": {},
   "outputs": [],
   "source": [
    "def chain_method(sl, matrix):\n",
    "    for j in range(0, len(matrix)):\n",
    "        temp = matrix[j]\n",
    "        if hash(temp) in sl.keys():\n",
    "            if isinstance(sl[hash(temp)], deque):\n",
    "                sl[hash(temp)].append(matrix[j])\n",
    "            else:\n",
    "                a = sl[hash(temp)]\n",
    "                sl[hash(temp)] = deque([a, matrix[j]])\n",
    "        else:\n",
    "            sl[hash(temp)] = matrix[j]"
   ]
  },
  {
   "cell_type": "code",
   "execution_count": null,
   "id": "3a47a352-0460-41db-bab4-bde40936d1fd",
   "metadata": {},
   "outputs": [],
   "source": [
    "print(\"Метод рехеширования с использованием цепочек\")\n",
    "slrchain = dict()\n",
    "chain_method(slrchain, matrix)\n",
    "strokchain = str(slrchain.items())\n",
    "print(strokchain)"
   ]
  },
  {
   "cell_type": "markdown",
   "id": "16190b0d-6821-4af3-9b4c-175e70203d91",
   "metadata": {},
   "source": [
    "# Задание 3"
   ]
  },
  {
   "cell_type": "markdown",
   "id": "e0504a79-334e-47cb-bf2a-3e02e368d421",
   "metadata": {},
   "source": [
    "## Расставить на стандартной 64-клеточной шахматной доске 8 ферзей так, чтобы ни один из них не находился под боем другого». Подразумевается, что ферзь бьёт все клетки, расположенные по вертикалям, горизонталям и обеим диагоналямНаписать программу, которая находит хотя бы один способ решения задач.\n"
   ]
  },
  {
   "cell_type": "code",
   "execution_count": null,
   "id": "d5fb30da-a3ce-45d5-aef7-c1660bbb80b7",
   "metadata": {},
   "outputs": [],
   "source": [
    "def make_quins_attack(array):\n",
    "    \"\"\"\n",
    "    пересчитывает клетки под атакой на всём поле\n",
    "    \"\"\"\n",
    "    length = len(array)\n",
    "    for y in range(length):  # очищаем закрытые клетки\n",
    "        for x in range(length):\n",
    "            if array[y][x] == 1:\n",
    "                array[y][x] = 0\n",
    "    for y in range(length):  # закрываем клетки\n",
    "        for x in range(length):\n",
    "            if array[y][x] == 'Q':\n",
    "                buffer = 0\n",
    "                for i in range(length):\n",
    "                    if array[i][x] == 0:  # закрываем клетки по вертикали\n",
    "                        array[i][x] = 1\n",
    "                    if array[y][i] == 0:  # закрываем клетки по горизонтали\n",
    "                        array[y][i] = 1\n",
    "                    # закрываем клетки по диагонали\n",
    "                    if x >= y and length > x - y + i >= 0:  # королева в верхней правой части доски\n",
    "                        if array[i][x - y + i] == 0:\n",
    "                            array[i][x - y + i] = 1\n",
    "                    elif length > y - x + i >= 0:  # королева в нижней левой части доски\n",
    "                        if array[y - x + i][i] == 0:\n",
    "                            array[y - x + i][i] = 1\n",
    "                    # закрываем клетки по диагонали\n",
    "                    if x + y <= length and length > x + y - i >= 0:  # королева в верхней левой части доски\n",
    "                        if array[i][x + y - i] == 0:\n",
    "                            array[i][x + y - i] = 1\n",
    "                    elif length > y + x - i >= 0:  # королева в нижней правой части доски\n",
    "                        if array[y + x - i][i] == 0:\n",
    "                            array[y + x - i][i] = 1\n",
    "\n",
    "\n",
    "def quins(array, quins_amount):\n",
    "    length = len(array)\n",
    "    for y in range(length):\n",
    "        for x in range(length):\n",
    "            if array[y][x] == 0:  # нашли свободное место для королевы\n",
    "                array[y][x] = 'Q'\n",
    "                quins_amount -= 1\n",
    "                make_quins_attack(array)\n",
    "                if quins_amount == 0:  # королев не осталось\n",
    "                    return 1  # королевы успешно расставленны\n",
    "                if quins(array, quins_amount) == 1:\n",
    "                    return 1  # королевы успешно расставленны\n",
    "                else:\n",
    "                    array[y][x] = 0\n",
    "                    quins_amount += 1\n",
    "                    make_quins_attack(array)\n",
    "    return -1  # неудача\n",
    "\n",
    "\n",
    "def chess(board_length, quins_amount):\n",
    "    board = [0] * board_length\n",
    "    for i in range(board_length):  # формируем нашу доску как массив из массивов\n",
    "        board[i] = [0] * board_length\n",
    "    if quins(board, quins_amount) == 1:  # ищем доску\n",
    "        print(\"Комбинация найдена!\")\n",
    "    else:\n",
    "        print(\"Комбинации не существует!\")\n",
    "    return board"
   ]
  },
  {
   "cell_type": "code",
   "execution_count": null,
   "id": "1748292d-8361-4ca6-8ecc-43fbaebe346b",
   "metadata": {},
   "outputs": [],
   "source": [
    "board = chess(8, 8)\n",
    "def printMatrix(matrix):\n",
    "   for row in matrix:\n",
    "      for x in row:\n",
    "          print (f'{x:>3}', end = \"\" )\n",
    "      print ()\n",
    "\n",
    "\n",
    "printMatrix(board)"
   ]
  },
  {
   "cell_type": "code",
   "execution_count": null,
   "id": "a1be4c2d-3f82-494c-b663-547fcc9feaec",
   "metadata": {},
   "outputs": [],
   "source": []
  }
 ],
 "metadata": {
  "kernelspec": {
   "display_name": "Python 3 (ipykernel)",
   "language": "python",
   "name": "python3"
  },
  "language_info": {
   "codemirror_mode": {
    "name": "ipython",
    "version": 3
   },
   "file_extension": ".py",
   "mimetype": "text/x-python",
   "name": "python",
   "nbconvert_exporter": "python",
   "pygments_lexer": "ipython3",
   "version": "3.10.2"
  }
 },
 "nbformat": 4,
 "nbformat_minor": 5
}
