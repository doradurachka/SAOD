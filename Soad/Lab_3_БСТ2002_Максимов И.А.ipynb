{
 "cells": [
  {
   "cell_type": "markdown",
   "id": "949f939b-5506-4fdc-99b7-43c03b4e5065",
   "metadata": {},
   "source": [
    "# Лабораторная работа №3\n",
    "## Выполнил студент группы БСТ2002 Максимов И.А.\n",
    "\n",
    "## Задание №1\n",
    "### Реализовать методы поиска подстроки в строке. Добавить возможность ввода строки и подстроки с клавиатуры. Предусмотреть возможность существования пробела. Реализовать возможность выбора опции чувствительности или нечувствительности к регистру. Оценить время работы каждого алгоритма поиска и сравнить его со временем работы стандартной функции поиска, используемой в выбранном языке программирования."
   ]
  },
  {
   "cell_type": "markdown",
   "id": "e5ebc8e2-740b-4154-b318-fa6d9d307290",
   "metadata": {},
   "source": [
    "### Ввод с клавиатуры"
   ]
  },
  {
   "cell_type": "code",
   "execution_count": 1,
   "id": "aaec28df-b0bf-4722-9e3c-24f9fbcd58fe",
   "metadata": {},
   "outputs": [
    {
     "name": "stdout",
     "output_type": "stream",
     "text": [
      "Введите основную строку или оставьте пустой для строки по умолчанию: \n"
     ]
    },
    {
     "name": "stdin",
     "output_type": "stream",
     "text": [
      " \n"
     ]
    },
    {
     "name": "stdout",
     "output_type": "stream",
     "text": [
      "По умолчанию: замок закрыт на большущий ЗАМОК\n",
      "Введите строку для поиска или оставьте пустой для строки по умолчанию: \n"
     ]
    },
    {
     "name": "stdin",
     "output_type": "stream",
     "text": [
      " \n"
     ]
    },
    {
     "name": "stdout",
     "output_type": "stream",
     "text": [
      "По умолчанию: ЗАМОК\n",
      "Должен ли поиск быть чувствительным к регистру?\n"
     ]
    },
    {
     "name": "stdin",
     "output_type": "stream",
     "text": [
      " да\n"
     ]
    }
   ],
   "source": [
    "import timeit\n",
    "\n",
    "main_string = 'замок закрыт на большущий ЗАМОК'\n",
    "string_to_find = 'ЗАМОК'\n",
    "is_case_sensitive = False\n",
    "\n",
    "print('Введите основную строку или оставьте пустой для строки по умолчанию: ')\n",
    "buffer = input()\n",
    "if buffer != '':\n",
    "    main_string = buffer\n",
    "    buffer = ''\n",
    "else:\n",
    "    print('По умолчанию: замок закрыт на большущий ЗАМОК')\n",
    "\n",
    "print('Введите строку для поиска или оставьте пустой для строки по умолчанию: ')\n",
    "buffer = input()\n",
    "if buffer != '':\n",
    "    string_to_find = buffer\n",
    "    buffer = ''\n",
    "else:\n",
    "    print('По умолчанию: ЗАМОК')\n",
    "\n",
    "print('Должен ли поиск быть чувствительным к регистру?')\n",
    "buffer = input()\n",
    "if (buffer == 'Да') or (buffer == 'да'):\n",
    "    is_case_sensitive = True"
   ]
  },
  {
   "cell_type": "code",
   "execution_count": 2,
   "id": "763fc915-46e3-4f46-968d-8188e5080397",
   "metadata": {},
   "outputs": [],
   "source": [
    "def prefix(s):\n",
    "    str_prefix = [0]*len(s)\n",
    "    for i in range(1, len(s)):\n",
    "        k = str_prefix[i-1]\n",
    "        while k > 0 and s[k] != s[i]:\n",
    "            k = str_prefix[k-1]\n",
    "        if s[k] == s[i]:\n",
    "            k = k + 1\n",
    "        str_prefix[i] = k\n",
    "    return str_prefix\n",
    "\n",
    "\n",
    "def kmp(s_main, s_sought, case_sensitive=True):\n",
    "    if not case_sensitive:\n",
    "        s_main = s_main.lower()\n",
    "        s_sought = s_sought.lower()\n",
    "\n",
    "    index = -1\n",
    "    str_prefix = prefix(s_main)\n",
    "    k = 0\n",
    "    for i in range(len(s_sought)):\n",
    "        while k > 0 and s_main[k] != s_sought[i]:\n",
    "            k = str_prefix[k-1]\n",
    "        if s_main[k] == s_sought[i]:\n",
    "            k = k + 1\n",
    "        if k == len(s_main):\n",
    "            index = i - len(s_main) + 1\n",
    "            break\n",
    "    return index"
   ]
  },
  {
   "cell_type": "markdown",
   "id": "6e9e6a58-3270-4494-b67b-c684d0986f06",
   "metadata": {},
   "source": [
    "## Пример работы"
   ]
  },
  {
   "cell_type": "code",
   "execution_count": 3,
   "id": "b2be37c9-bd0e-441d-937d-83f0042e25a9",
   "metadata": {},
   "outputs": [
    {
     "name": "stdout",
     "output_type": "stream",
     "text": [
      "26\n",
      "0\n"
     ]
    }
   ],
   "source": [
    "print(kmp(string_to_find, main_string, is_case_sensitive))\n",
    "print(kmp(string_to_find, main_string, False))"
   ]
  },
  {
   "cell_type": "markdown",
   "id": "2656eb6d-c5cd-4107-8fb0-079866841635",
   "metadata": {},
   "source": [
    "## Упрощённый алгоритм Бойера-Мура"
   ]
  },
  {
   "cell_type": "code",
   "execution_count": 4,
   "id": "a23fdde6-3b6f-45a0-b044-3aaa286af8e9",
   "metadata": {},
   "outputs": [],
   "source": [
    "def build_table(s):\n",
    "    dic_table = dict()\n",
    "    length = len(s)\n",
    "    for i in range(length - 1):\n",
    "        dic_table[s[i]] = length - i - 1\n",
    "    if not s[length - 1] in dic_table:\n",
    "        dic_table[s[length - 1]] = length\n",
    "    return dic_table\n",
    "\n",
    "\n",
    "def boyer_mur_search(s_main, s_sought, case_sensitive=True):\n",
    "    if not case_sensitive:\n",
    "        s_main = s_main.lower()\n",
    "        s_sought = s_sought.lower()\n",
    "\n",
    "    dic_table = build_table(s_sought)\n",
    "    s_sought_len = len(s_sought)\n",
    "    current_step = s_sought_len - 1\n",
    "\n",
    "    while current_step < len(s_main):  # основной цикл для поиска подстроки\n",
    "\n",
    "        s_sought_i = s_sought_len - 1  # индекс для подстроки\n",
    "        for i in range(current_step, current_step - s_sought_len, -1):\n",
    "            if s_main[i] != s_sought[s_sought_i]:  # слово не совпало. Указываем необходимый шаг и выходим из for\n",
    "                if s_main[i] in dic_table:\n",
    "                    step = dic_table[s_main[i]]\n",
    "                else:\n",
    "                    step = s_sought_len\n",
    "                break\n",
    "\n",
    "            if i == current_step - s_sought_len + 1:  # последняя итерация for. Все символы совпали, возвращаем индекс\n",
    "                return i\n",
    "            s_sought_i -= 1\n",
    "\n",
    "        current_step += step  # двигаем место поиска на шаг"
   ]
  },
  {
   "cell_type": "markdown",
   "id": "c8f5f07a-0da4-4e93-9e52-defd9731c44b",
   "metadata": {},
   "source": [
    "## Пример работы"
   ]
  },
  {
   "cell_type": "code",
   "execution_count": 5,
   "id": "a85b6485-8e26-4fac-a93e-9cf2fb565467",
   "metadata": {},
   "outputs": [
    {
     "name": "stdout",
     "output_type": "stream",
     "text": [
      "26\n",
      "0\n"
     ]
    }
   ],
   "source": [
    "print(boyer_mur_search(main_string, string_to_find, case_sensitive=is_case_sensitive))\n",
    "print(boyer_mur_search(main_string, string_to_find, case_sensitive=False))"
   ]
  },
  {
   "cell_type": "markdown",
   "id": "156a0904-273a-45df-a789-4f55fea0816b",
   "metadata": {},
   "source": [
    "## Сравнение скорости работы"
   ]
  },
  {
   "cell_type": "code",
   "execution_count": 6,
   "id": "d053178e-1a6a-4229-9e8e-9282b1e89b2d",
   "metadata": {},
   "outputs": [
    {
     "name": "stdout",
     "output_type": "stream",
     "text": [
      "Поиск Бойера-Мура          1.4900000678608194e-05\n",
      "Поиск Кнута-Морриса-Пратта 1.550000160932541e-05\n",
      "Поиск по умолчанию         1.2999989849049598e-06\n"
     ]
    }
   ],
   "source": [
    "import timeit\n",
    "\n",
    "print(\"Поиск Бойера-Мура          \" + str(timeit.timeit(\"boyer_mur_search(main_string, string_to_find, case_sensitive=is_case_sensitive)\", number=1, globals=globals())))\n",
    "print(\"Поиск Кнута-Морриса-Пратта \" + str(timeit.timeit(\"kmp(string_to_find, main_string, is_case_sensitive)\", number=1, globals=globals())))\n",
    "print(\"Поиск по умолчанию         \" + str(timeit.timeit(\"main_string.find(string_to_find)\", number=1, globals=globals())))"
   ]
  },
  {
   "cell_type": "markdown",
   "id": "7511229b-01e5-4276-8f6c-953a94100ef1",
   "metadata": {},
   "source": [
    "# Задание №2\n",
    "\n",
    "## Написать программу, определяющую, является ли данное расположение «решаемым», то есть можно ли из него за конечное число шагов перейти к правильному. Если это возможно, то необходимо найти хотя бы одно решение - последовательность движений, после которой числа будут расположены в правильном порядке. Входные данные: массив чисел, представляющий собой расстановку в порядке «слева направо, сверху вниз». Число 0 обозначает пустое поле. Например, массив [1, 2, 3, 4, 5, 6, 7, 8, 9, 10, 11, 12, 13, 14, 15, 0] представляет собой «решенную» позицию элементов."
   ]
  },
  {
   "cell_type": "code",
   "execution_count": null,
   "id": "ece1c5de-9221-465e-b8fe-cfd3d04df11b",
   "metadata": {},
   "outputs": [],
   "source": []
  }
 ],
 "metadata": {
  "kernelspec": {
   "display_name": "Python 3 (ipykernel)",
   "language": "python",
   "name": "python3"
  },
  "language_info": {
   "codemirror_mode": {
    "name": "ipython",
    "version": 3
   },
   "file_extension": ".py",
   "mimetype": "text/x-python",
   "name": "python",
   "nbconvert_exporter": "python",
   "pygments_lexer": "ipython3",
   "version": "3.10.2"
  }
 },
 "nbformat": 4,
 "nbformat_minor": 5
}
