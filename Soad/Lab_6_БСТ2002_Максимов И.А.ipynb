{
 "cells": [
  {
   "cell_type": "markdown",
   "id": "552bfb6f-f80b-42bb-8774-ae545bddba96",
   "metadata": {},
   "source": [
    "# Лабораторная работа №6.\n",
    "## Выполнил студент группы БСТ2002 Максимов И.А.\n",
    "## Сетевые алгоритмы. Динамические алгоритмы поиска путей.\n",
    "## "
   ]
  },
  {
   "cell_type": "code",
   "execution_count": null,
   "id": "24c1c4ee-58b3-4072-9f17-b72f5950da2f",
   "metadata": {},
   "outputs": [],
   "source": []
  }
 ],
 "metadata": {
  "kernelspec": {
   "display_name": "Python 3 (ipykernel)",
   "language": "python",
   "name": "python3"
  },
  "language_info": {
   "codemirror_mode": {
    "name": "ipython",
    "version": 3
   },
   "file_extension": ".py",
   "mimetype": "text/x-python",
   "name": "python",
   "nbconvert_exporter": "python",
   "pygments_lexer": "ipython3",
   "version": "3.10.2"
  }
 },
 "nbformat": 4,
 "nbformat_minor": 5
}
